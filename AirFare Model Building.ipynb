{
 "cells": [
  {
   "cell_type": "code",
   "execution_count": 1,
   "id": "f606d6a8",
   "metadata": {},
   "outputs": [],
   "source": [
    "import warnings\n",
    "warnings.filterwarnings('ignore')\n",
    "import numpy as np \n",
    "import pandas as pd\n",
    "import matplotlib.pyplot as plt\n",
    "import seaborn as sns"
   ]
  },
  {
   "cell_type": "code",
   "execution_count": 2,
   "id": "12d11f21",
   "metadata": {},
   "outputs": [],
   "source": [
    "train=pd.read_csv('preprocessedtraindata.csv')\n",
    "test=pd.read_csv('preprocessedtestdata.csv')"
   ]
  },
  {
   "cell_type": "code",
   "execution_count": 3,
   "id": "a840b775",
   "metadata": {},
   "outputs": [],
   "source": [
    "X_train=train.drop(['Price'],axis=1)\n",
    "y_train=train['Price']\n",
    "\n",
    "X_test=test.drop(['Price'],axis=1)\n",
    "y_test=test['Price']"
   ]
  },
  {
   "cell_type": "code",
   "execution_count": 4,
   "id": "7b1be13d",
   "metadata": {},
   "outputs": [],
   "source": [
    "from sklearn.metrics import r2_score,mean_absolute_error,mean_squared_error,accuracy_score\n",
    "def predict(ml_model):\n",
    "    print('Model is: {}'.format(ml_model))\n",
    "    model= ml_model.fit(X_train,y_train)\n",
    "    print(\"Training score: {}\".format(model.score(X_train,y_train)))\n",
    "    print(\"Test score:{}\".format(model.score(X_test,y_test)))\n",
    "    predictions = model.predict(X_test)\n",
    "    print(\"Predictions are: {}\".format(predictions))\n",
    "    print('\\n')\n",
    "    r2score=r2_score(y_test,predictions) \n",
    "    print(\"r2 score is: {}\".format(r2score))\n",
    "          \n",
    "    print('MAE:{}'.format(mean_absolute_error(y_test,predictions)))\n",
    "    print('MSE:{}'.format(mean_squared_error(y_test,predictions)))\n",
    "    print('RMSE:{}'.format(np.sqrt(mean_squared_error(y_test,predictions))))\n",
    "    \n",
    "    return model"
   ]
  },
  {
   "cell_type": "markdown",
   "id": "a40cd5c0",
   "metadata": {},
   "source": [
    "# Importing Machine Learning Model Libraries\n",
    "\n"
   ]
  },
  {
   "cell_type": "code",
   "execution_count": 5,
   "id": "1f26aa2f",
   "metadata": {},
   "outputs": [],
   "source": [
    "from sklearn.ensemble import RandomForestRegressor\n",
    "from sklearn.tree import DecisionTreeRegressor\n",
    "from sklearn.linear_model import LinearRegression\n",
    "from sklearn.svm import SVR\n",
    "from sklearn.neighbors import KNeighborsRegressor\n",
    "from xgboost import XGBRegressor"
   ]
  },
  {
   "cell_type": "markdown",
   "id": "bfd5ba9f",
   "metadata": {},
   "source": [
    "# Random Forest Regressor\n",
    "\n"
   ]
  },
  {
   "cell_type": "code",
   "execution_count": 6,
   "id": "1ca55434",
   "metadata": {},
   "outputs": [
    {
     "name": "stdout",
     "output_type": "stream",
     "text": [
      "Model is: RandomForestRegressor()\n",
      "Training score: 0.9517296891423164\n",
      "Test score:0.8098811689804944\n",
      "Predictions are: [7393.33 9668.82 8301.24 ... 4841.8  3877.44 4151.92]\n",
      "\n",
      "\n",
      "r2 score is: 0.8098811689804944\n",
      "MAE:1179.6628019601171\n",
      "MSE:3923841.6036021477\n",
      "RMSE:1980.8689011648771\n"
     ]
    },
    {
     "data": {
      "text/plain": [
       "RandomForestRegressor()"
      ]
     },
     "execution_count": 6,
     "metadata": {},
     "output_type": "execute_result"
    }
   ],
   "source": [
    "predict(RandomForestRegressor())"
   ]
  },
  {
   "cell_type": "markdown",
   "id": "172db178",
   "metadata": {},
   "source": [
    "# Decision Tree Regressor"
   ]
  },
  {
   "cell_type": "code",
   "execution_count": 7,
   "id": "17c78346",
   "metadata": {},
   "outputs": [
    {
     "name": "stdout",
     "output_type": "stream",
     "text": [
      "Model is: DecisionTreeRegressor()\n",
      "Training score: 0.9705440821762137\n",
      "Test score:0.6860881153869538\n",
      "Predictions are: [7295. 8018. 8476. ... 4804. 3873. 4409.]\n",
      "\n",
      "\n",
      "r2 score is: 0.6860881153869538\n",
      "MAE:1373.5054945054944\n",
      "MSE:6478792.7955619255\n",
      "RMSE:2545.3472838813027\n"
     ]
    },
    {
     "data": {
      "text/plain": [
       "DecisionTreeRegressor()"
      ]
     },
     "execution_count": 7,
     "metadata": {},
     "output_type": "execute_result"
    }
   ],
   "source": [
    "predict(DecisionTreeRegressor())\n"
   ]
  },
  {
   "cell_type": "markdown",
   "id": "69e652c1",
   "metadata": {},
   "source": [
    "# XG Boost Regressor\n",
    "\n"
   ]
  },
  {
   "cell_type": "code",
   "execution_count": 8,
   "id": "ea28ff55",
   "metadata": {},
   "outputs": [
    {
     "name": "stdout",
     "output_type": "stream",
     "text": [
      "Model is: XGBRegressor(base_score=None, booster=None, colsample_bylevel=None,\n",
      "             colsample_bynode=None, colsample_bytree=None,\n",
      "             enable_categorical=False, gamma=None, gpu_id=None,\n",
      "             importance_type=None, interaction_constraints=None,\n",
      "             learning_rate=None, max_delta_step=None, max_depth=None,\n",
      "             min_child_weight=None, missing=nan, monotone_constraints=None,\n",
      "             n_estimators=100, n_jobs=None, num_parallel_tree=None,\n",
      "             predictor=None, random_state=None, reg_alpha=None, reg_lambda=None,\n",
      "             scale_pos_weight=None, subsample=None, tree_method=None,\n",
      "             validate_parameters=None, verbosity=None)\n",
      "Training score: 0.9376103949657766\n",
      "Test score:0.839765086215697\n",
      "Predictions are: [8700.959  9433.354  8514.881  ... 4763.8467 3753.632  4421.112 ]\n",
      "\n",
      "\n",
      "r2 score is: 0.839765086215697\n",
      "MAE:1159.965198587927\n",
      "MSE:3307070.7287903805\n",
      "RMSE:1818.5353251422916\n"
     ]
    },
    {
     "data": {
      "text/plain": [
       "XGBRegressor(base_score=0.5, booster='gbtree', colsample_bylevel=1,\n",
       "             colsample_bynode=1, colsample_bytree=1, enable_categorical=False,\n",
       "             gamma=0, gpu_id=-1, importance_type=None,\n",
       "             interaction_constraints='', learning_rate=0.300000012,\n",
       "             max_delta_step=0, max_depth=6, min_child_weight=1, missing=nan,\n",
       "             monotone_constraints='()', n_estimators=100, n_jobs=4,\n",
       "             num_parallel_tree=1, predictor='auto', random_state=0, reg_alpha=0,\n",
       "             reg_lambda=1, scale_pos_weight=1, subsample=1, tree_method='exact',\n",
       "             validate_parameters=1, verbosity=None)"
      ]
     },
     "execution_count": 8,
     "metadata": {},
     "output_type": "execute_result"
    }
   ],
   "source": [
    "predict(XGBRegressor())"
   ]
  },
  {
   "cell_type": "markdown",
   "id": "62b2d24c",
   "metadata": {},
   "source": [
    "# Linear Regression"
   ]
  },
  {
   "cell_type": "code",
   "execution_count": 9,
   "id": "bc368209",
   "metadata": {},
   "outputs": [
    {
     "name": "stdout",
     "output_type": "stream",
     "text": [
      "Model is: LinearRegression()\n",
      "Training score: 0.5691360451875732\n",
      "Test score:0.5915918101530742\n",
      "Predictions are: [ 6371.78878938 11441.03878938 10121.03878938 ...  3224.53878938\n",
      "  5675.53878938  4232.53878938]\n",
      "\n",
      "\n",
      "r2 score is: 0.5915918101530742\n",
      "MAE:1960.142852835532\n",
      "MSE:8429091.626430197\n",
      "RMSE:2903.289793739198\n"
     ]
    },
    {
     "data": {
      "text/plain": [
       "LinearRegression()"
      ]
     },
     "execution_count": 9,
     "metadata": {},
     "output_type": "execute_result"
    }
   ],
   "source": [
    "predict(LinearRegression())"
   ]
  },
  {
   "cell_type": "markdown",
   "id": "f0ea88ec",
   "metadata": {},
   "source": [
    "# Support Vector Regression"
   ]
  },
  {
   "cell_type": "code",
   "execution_count": 10,
   "id": "d6a4a101",
   "metadata": {},
   "outputs": [
    {
     "name": "stdout",
     "output_type": "stream",
     "text": [
      "Model is: SVR()\n",
      "Training score: 0.050371821275320805\n",
      "Test score:0.05653888321299427\n",
      "Predictions are: [7831.20733187 8446.98978809 8377.76457094 ... 7919.36665243 7945.64429697\n",
      " 7931.90439889]\n",
      "\n",
      "\n",
      "r2 score is: 0.05653888321299427\n",
      "MAE:3403.751032292937\n",
      "MSE:19471990.026332457\n",
      "RMSE:4412.70778845965\n"
     ]
    },
    {
     "data": {
      "text/plain": [
       "SVR()"
      ]
     },
     "execution_count": 10,
     "metadata": {},
     "output_type": "execute_result"
    }
   ],
   "source": [
    "predict(SVR())"
   ]
  },
  {
   "cell_type": "markdown",
   "id": "5c7dd3ca",
   "metadata": {},
   "source": [
    "#  K Nearest Neighbours\n",
    "\n"
   ]
  },
  {
   "cell_type": "code",
   "execution_count": 11,
   "id": "b07ff403",
   "metadata": {},
   "outputs": [
    {
     "name": "stdout",
     "output_type": "stream",
     "text": [
      "Model is: KNeighborsRegressor()\n",
      "Training score: 0.8190730329140331\n",
      "Test score:0.749717394869148\n",
      "Predictions are: [6156.2 9088.4 9696.2 ... 4888.  3853.8 4450. ]\n",
      "\n",
      "\n",
      "r2 score is: 0.749717394869148\n",
      "MAE:1406.1429526994746\n",
      "MSE:5165555.107845199\n",
      "RMSE:2272.78575933703\n"
     ]
    },
    {
     "data": {
      "text/plain": [
       "KNeighborsRegressor()"
      ]
     },
     "execution_count": 11,
     "metadata": {},
     "output_type": "execute_result"
    }
   ],
   "source": [
    "predict(KNeighborsRegressor())"
   ]
  },
  {
   "cell_type": "markdown",
   "id": "0bea530a",
   "metadata": {},
   "source": [
    "# So we will choose the best model which came out to be XGBRegressor"
   ]
  },
  {
   "cell_type": "code",
   "execution_count": 12,
   "id": "4a6f3ae3",
   "metadata": {},
   "outputs": [
    {
     "name": "stdout",
     "output_type": "stream",
     "text": [
      "Model is: XGBRegressor(base_score=None, booster=None, colsample_bylevel=None,\n",
      "             colsample_bynode=None, colsample_bytree=None,\n",
      "             enable_categorical=False, gamma=None, gpu_id=None,\n",
      "             importance_type=None, interaction_constraints=None,\n",
      "             learning_rate=None, max_delta_step=None, max_depth=None,\n",
      "             min_child_weight=None, missing=nan, monotone_constraints=None,\n",
      "             n_estimators=100, n_jobs=None, num_parallel_tree=None,\n",
      "             predictor=None, random_state=None, reg_alpha=None, reg_lambda=None,\n",
      "             scale_pos_weight=None, subsample=None, tree_method=None,\n",
      "             validate_parameters=None, verbosity=None)\n",
      "Training score: 0.9376103949657766\n",
      "Test score:0.839765086215697\n",
      "Predictions are: [8700.959  9433.354  8514.881  ... 4763.8467 3753.632  4421.112 ]\n",
      "\n",
      "\n",
      "r2 score is: 0.839765086215697\n",
      "MAE:1159.965198587927\n",
      "MSE:3307070.7287903805\n",
      "RMSE:1818.5353251422916\n"
     ]
    }
   ],
   "source": [
    "model=predict(XGBRegressor())"
   ]
  },
  {
   "cell_type": "markdown",
   "id": "d0ee1026",
   "metadata": {},
   "source": [
    "# Hyperparamater Optimization Model"
   ]
  },
  {
   "cell_type": "code",
   "execution_count": 13,
   "id": "48bb344d",
   "metadata": {},
   "outputs": [],
   "source": [
    "from sklearn.model_selection import RandomizedSearchCV"
   ]
  },
  {
   "cell_type": "code",
   "execution_count": 14,
   "id": "01e7199b",
   "metadata": {},
   "outputs": [],
   "source": [
    "# Create the random grid\n",
    "\n",
    "random_grid = {\n",
    "              'learning_rate': [0.01, 0.1],\n",
    "              'max_depth': [3, 5, 7, 10],\n",
    "              'min_child_weight': [1, 3, 5,7,9],\n",
    "              'subsample': [0.3,0.5,0.7,0.9],\n",
    "              'colsample_bytree': [0.5,0.7,0.9,1],\n",
    "              'n_estimators' : [100, 200],\n",
    "              'objective': ['reg:squarederror']\n",
    "              }"
   ]
  },
  {
   "cell_type": "code",
   "execution_count": 16,
   "id": "5c8f2576",
   "metadata": {},
   "outputs": [],
   "source": [
    "# Random search of parameters, using 5 fold cross validation, \n",
    "# search across 100 different combinations\n",
    "xgb_random = RandomizedSearchCV(estimator = model, param_distributions = random_grid,scoring='neg_mean_absolute_error', n_iter = 10, cv = 5, verbose=2)"
   ]
  },
  {
   "cell_type": "code",
   "execution_count": 17,
   "id": "b2077c92",
   "metadata": {},
   "outputs": [
    {
     "name": "stdout",
     "output_type": "stream",
     "text": [
      "Fitting 5 folds for each of 10 candidates, totalling 50 fits\n",
      "[CV] END colsample_bytree=0.7, learning_rate=0.01, max_depth=5, min_child_weight=7, n_estimators=100, objective=reg:squarederror, subsample=0.3; total time=   1.2s\n",
      "[CV] END colsample_bytree=0.7, learning_rate=0.01, max_depth=5, min_child_weight=7, n_estimators=100, objective=reg:squarederror, subsample=0.3; total time=   0.8s\n",
      "[CV] END colsample_bytree=0.7, learning_rate=0.01, max_depth=5, min_child_weight=7, n_estimators=100, objective=reg:squarederror, subsample=0.3; total time=   0.8s\n",
      "[CV] END colsample_bytree=0.7, learning_rate=0.01, max_depth=5, min_child_weight=7, n_estimators=100, objective=reg:squarederror, subsample=0.3; total time=   0.9s\n",
      "[CV] END colsample_bytree=0.7, learning_rate=0.01, max_depth=5, min_child_weight=7, n_estimators=100, objective=reg:squarederror, subsample=0.3; total time=   1.1s\n",
      "[CV] END colsample_bytree=0.5, learning_rate=0.1, max_depth=10, min_child_weight=1, n_estimators=100, objective=reg:squarederror, subsample=0.5; total time=   4.0s\n",
      "[CV] END colsample_bytree=0.5, learning_rate=0.1, max_depth=10, min_child_weight=1, n_estimators=100, objective=reg:squarederror, subsample=0.5; total time=   2.7s\n",
      "[CV] END colsample_bytree=0.5, learning_rate=0.1, max_depth=10, min_child_weight=1, n_estimators=100, objective=reg:squarederror, subsample=0.5; total time=   4.6s\n",
      "[CV] END colsample_bytree=0.5, learning_rate=0.1, max_depth=10, min_child_weight=1, n_estimators=100, objective=reg:squarederror, subsample=0.5; total time=   3.4s\n",
      "[CV] END colsample_bytree=0.5, learning_rate=0.1, max_depth=10, min_child_weight=1, n_estimators=100, objective=reg:squarederror, subsample=0.5; total time=   3.4s\n",
      "[CV] END colsample_bytree=0.9, learning_rate=0.01, max_depth=7, min_child_weight=1, n_estimators=100, objective=reg:squarederror, subsample=0.9; total time=   1.5s\n",
      "[CV] END colsample_bytree=0.9, learning_rate=0.01, max_depth=7, min_child_weight=1, n_estimators=100, objective=reg:squarederror, subsample=0.9; total time=   2.0s\n",
      "[CV] END colsample_bytree=0.9, learning_rate=0.01, max_depth=7, min_child_weight=1, n_estimators=100, objective=reg:squarederror, subsample=0.9; total time=   2.2s\n",
      "[CV] END colsample_bytree=0.9, learning_rate=0.01, max_depth=7, min_child_weight=1, n_estimators=100, objective=reg:squarederror, subsample=0.9; total time=   1.7s\n",
      "[CV] END colsample_bytree=0.9, learning_rate=0.01, max_depth=7, min_child_weight=1, n_estimators=100, objective=reg:squarederror, subsample=0.9; total time=   1.7s\n",
      "[CV] END colsample_bytree=1, learning_rate=0.1, max_depth=3, min_child_weight=3, n_estimators=200, objective=reg:squarederror, subsample=0.5; total time=   1.7s\n",
      "[CV] END colsample_bytree=1, learning_rate=0.1, max_depth=3, min_child_weight=3, n_estimators=200, objective=reg:squarederror, subsample=0.5; total time=   1.8s\n",
      "[CV] END colsample_bytree=1, learning_rate=0.1, max_depth=3, min_child_weight=3, n_estimators=200, objective=reg:squarederror, subsample=0.5; total time=   2.0s\n",
      "[CV] END colsample_bytree=1, learning_rate=0.1, max_depth=3, min_child_weight=3, n_estimators=200, objective=reg:squarederror, subsample=0.5; total time=   1.6s\n",
      "[CV] END colsample_bytree=1, learning_rate=0.1, max_depth=3, min_child_weight=3, n_estimators=200, objective=reg:squarederror, subsample=0.5; total time=   1.6s\n",
      "[CV] END colsample_bytree=0.7, learning_rate=0.1, max_depth=5, min_child_weight=1, n_estimators=200, objective=reg:squarederror, subsample=0.5; total time=   2.0s\n",
      "[CV] END colsample_bytree=0.7, learning_rate=0.1, max_depth=5, min_child_weight=1, n_estimators=200, objective=reg:squarederror, subsample=0.5; total time=   2.3s\n",
      "[CV] END colsample_bytree=0.7, learning_rate=0.1, max_depth=5, min_child_weight=1, n_estimators=200, objective=reg:squarederror, subsample=0.5; total time=   1.8s\n",
      "[CV] END colsample_bytree=0.7, learning_rate=0.1, max_depth=5, min_child_weight=1, n_estimators=200, objective=reg:squarederror, subsample=0.5; total time=   1.9s\n",
      "[CV] END colsample_bytree=0.7, learning_rate=0.1, max_depth=5, min_child_weight=1, n_estimators=200, objective=reg:squarederror, subsample=0.5; total time=   2.7s\n",
      "[CV] END colsample_bytree=0.5, learning_rate=0.01, max_depth=3, min_child_weight=5, n_estimators=200, objective=reg:squarederror, subsample=0.3; total time=   1.3s\n",
      "[CV] END colsample_bytree=0.5, learning_rate=0.01, max_depth=3, min_child_weight=5, n_estimators=200, objective=reg:squarederror, subsample=0.3; total time=   1.2s\n",
      "[CV] END colsample_bytree=0.5, learning_rate=0.01, max_depth=3, min_child_weight=5, n_estimators=200, objective=reg:squarederror, subsample=0.3; total time=   1.4s\n",
      "[CV] END colsample_bytree=0.5, learning_rate=0.01, max_depth=3, min_child_weight=5, n_estimators=200, objective=reg:squarederror, subsample=0.3; total time=   1.5s\n",
      "[CV] END colsample_bytree=0.5, learning_rate=0.01, max_depth=3, min_child_weight=5, n_estimators=200, objective=reg:squarederror, subsample=0.3; total time=   1.4s\n",
      "[CV] END colsample_bytree=0.9, learning_rate=0.01, max_depth=3, min_child_weight=1, n_estimators=100, objective=reg:squarederror, subsample=0.5; total time=   0.7s\n",
      "[CV] END colsample_bytree=0.9, learning_rate=0.01, max_depth=3, min_child_weight=1, n_estimators=100, objective=reg:squarederror, subsample=0.5; total time=   0.7s\n",
      "[CV] END colsample_bytree=0.9, learning_rate=0.01, max_depth=3, min_child_weight=1, n_estimators=100, objective=reg:squarederror, subsample=0.5; total time=   2.3s\n",
      "[CV] END colsample_bytree=0.9, learning_rate=0.01, max_depth=3, min_child_weight=1, n_estimators=100, objective=reg:squarederror, subsample=0.5; total time=   1.5s\n",
      "[CV] END colsample_bytree=0.9, learning_rate=0.01, max_depth=3, min_child_weight=1, n_estimators=100, objective=reg:squarederror, subsample=0.5; total time=   2.4s\n",
      "[CV] END colsample_bytree=0.7, learning_rate=0.1, max_depth=5, min_child_weight=9, n_estimators=200, objective=reg:squarederror, subsample=0.3; total time=   3.7s\n",
      "[CV] END colsample_bytree=0.7, learning_rate=0.1, max_depth=5, min_child_weight=9, n_estimators=200, objective=reg:squarederror, subsample=0.3; total time=   2.1s\n",
      "[CV] END colsample_bytree=0.7, learning_rate=0.1, max_depth=5, min_child_weight=9, n_estimators=200, objective=reg:squarederror, subsample=0.3; total time=   2.5s\n",
      "[CV] END colsample_bytree=0.7, learning_rate=0.1, max_depth=5, min_child_weight=9, n_estimators=200, objective=reg:squarederror, subsample=0.3; total time=   2.2s\n",
      "[CV] END colsample_bytree=0.7, learning_rate=0.1, max_depth=5, min_child_weight=9, n_estimators=200, objective=reg:squarederror, subsample=0.3; total time=   1.8s\n",
      "[CV] END colsample_bytree=1, learning_rate=0.1, max_depth=5, min_child_weight=7, n_estimators=200, objective=reg:squarederror, subsample=0.5; total time=   2.0s\n",
      "[CV] END colsample_bytree=1, learning_rate=0.1, max_depth=5, min_child_weight=7, n_estimators=200, objective=reg:squarederror, subsample=0.5; total time=   3.0s\n",
      "[CV] END colsample_bytree=1, learning_rate=0.1, max_depth=5, min_child_weight=7, n_estimators=200, objective=reg:squarederror, subsample=0.5; total time=   2.7s\n",
      "[CV] END colsample_bytree=1, learning_rate=0.1, max_depth=5, min_child_weight=7, n_estimators=200, objective=reg:squarederror, subsample=0.5; total time=   2.0s\n",
      "[CV] END colsample_bytree=1, learning_rate=0.1, max_depth=5, min_child_weight=7, n_estimators=200, objective=reg:squarederror, subsample=0.5; total time=   2.3s\n",
      "[CV] END colsample_bytree=0.5, learning_rate=0.01, max_depth=5, min_child_weight=9, n_estimators=200, objective=reg:squarederror, subsample=0.7; total time=   1.6s\n",
      "[CV] END colsample_bytree=0.5, learning_rate=0.01, max_depth=5, min_child_weight=9, n_estimators=200, objective=reg:squarederror, subsample=0.7; total time=   1.6s\n",
      "[CV] END colsample_bytree=0.5, learning_rate=0.01, max_depth=5, min_child_weight=9, n_estimators=200, objective=reg:squarederror, subsample=0.7; total time=   1.8s\n",
      "[CV] END colsample_bytree=0.5, learning_rate=0.01, max_depth=5, min_child_weight=9, n_estimators=200, objective=reg:squarederror, subsample=0.7; total time=   1.7s\n",
      "[CV] END colsample_bytree=0.5, learning_rate=0.01, max_depth=5, min_child_weight=9, n_estimators=200, objective=reg:squarederror, subsample=0.7; total time=   1.6s\n"
     ]
    },
    {
     "data": {
      "text/plain": [
       "RandomizedSearchCV(cv=5,\n",
       "                   estimator=XGBRegressor(base_score=0.5, booster='gbtree',\n",
       "                                          colsample_bylevel=1,\n",
       "                                          colsample_bynode=1,\n",
       "                                          colsample_bytree=1,\n",
       "                                          enable_categorical=False, gamma=0,\n",
       "                                          gpu_id=-1, importance_type=None,\n",
       "                                          interaction_constraints='',\n",
       "                                          learning_rate=0.300000012,\n",
       "                                          max_delta_step=0, max_depth=6,\n",
       "                                          min_child_weight=1, missing=nan,\n",
       "                                          monotone_constraints='()',\n",
       "                                          n_estimato...\n",
       "                                          reg_lambda=1, scale_pos_weight=1,\n",
       "                                          subsample=1, tree_method='exact',\n",
       "                                          validate_parameters=1,\n",
       "                                          verbosity=None),\n",
       "                   param_distributions={'colsample_bytree': [0.5, 0.7, 0.9, 1],\n",
       "                                        'learning_rate': [0.01, 0.1],\n",
       "                                        'max_depth': [3, 5, 7, 10],\n",
       "                                        'min_child_weight': [1, 3, 5, 7, 9],\n",
       "                                        'n_estimators': [100, 200],\n",
       "                                        'objective': ['reg:squarederror'],\n",
       "                                        'subsample': [0.3, 0.5, 0.7, 0.9]},\n",
       "                   scoring='neg_mean_absolute_error', verbose=2)"
      ]
     },
     "execution_count": 17,
     "metadata": {},
     "output_type": "execute_result"
    }
   ],
   "source": [
    "\n",
    "xgb_random.fit(X_train,y_train)"
   ]
  },
  {
   "cell_type": "code",
   "execution_count": 18,
   "id": "c05416d3",
   "metadata": {},
   "outputs": [
    {
     "data": {
      "text/plain": [
       "{'subsample': 0.5,\n",
       " 'objective': 'reg:squarederror',\n",
       " 'n_estimators': 100,\n",
       " 'min_child_weight': 1,\n",
       " 'max_depth': 10,\n",
       " 'learning_rate': 0.1,\n",
       " 'colsample_bytree': 0.5}"
      ]
     },
     "execution_count": 18,
     "metadata": {},
     "output_type": "execute_result"
    }
   ],
   "source": [
    "xgb_random.best_params_"
   ]
  },
  {
   "cell_type": "code",
   "execution_count": 19,
   "id": "909de788",
   "metadata": {},
   "outputs": [],
   "source": [
    "prediction = xgb_random.predict(X_test)"
   ]
  },
  {
   "cell_type": "code",
   "execution_count": 20,
   "id": "f36ad9e8",
   "metadata": {},
   "outputs": [
    {
     "name": "stdout",
     "output_type": "stream",
     "text": [
      "r2 score is: 0.8249601096712698\n",
      "MAE:1208.512085252553\n",
      "MSE:3612629.0082825227\n",
      "RMSE:1900.6917183705839\n"
     ]
    }
   ],
   "source": [
    "r2score=r2_score(y_test,prediction) \n",
    "print(\"r2 score is: {}\".format(r2score))\n",
    "          \n",
    "print('MAE:{}'.format(mean_absolute_error(y_test,prediction)))\n",
    "print('MSE:{}'.format(mean_squared_error(y_test,prediction)))\n",
    "print('RMSE:{}'.format(np.sqrt(mean_squared_error(y_test,prediction))))"
   ]
  },
  {
   "cell_type": "markdown",
   "id": "35cd658f",
   "metadata": {},
   "source": [
    "# Saving Model"
   ]
  },
  {
   "cell_type": "code",
   "execution_count": 23,
   "id": "b5957a9e",
   "metadata": {},
   "outputs": [],
   "source": [
    "import pickle\n",
    "#open a file where you want to store the data\n",
    "file = open('optimizedmodel.pkl','wb')\n",
    "\n",
    "#dump information\n",
    "pickle.dump(xgb_random,file)"
   ]
  },
  {
   "cell_type": "code",
   "execution_count": 25,
   "id": "75efa679",
   "metadata": {},
   "outputs": [],
   "source": [
    "model= open('optimizedmodel.pkl','rb')\n",
    "xgb=pickle.load(model)"
   ]
  },
  {
   "cell_type": "code",
   "execution_count": null,
   "id": "a0a76e81",
   "metadata": {},
   "outputs": [],
   "source": []
  }
 ],
 "metadata": {
  "kernelspec": {
   "display_name": "Python 3 (ipykernel)",
   "language": "python",
   "name": "python3"
  },
  "language_info": {
   "codemirror_mode": {
    "name": "ipython",
    "version": 3
   },
   "file_extension": ".py",
   "mimetype": "text/x-python",
   "name": "python",
   "nbconvert_exporter": "python",
   "pygments_lexer": "ipython3",
   "version": "3.9.7"
  }
 },
 "nbformat": 4,
 "nbformat_minor": 5
}
